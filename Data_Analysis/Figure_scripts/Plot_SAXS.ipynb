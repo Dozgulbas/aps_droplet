{
 "cells": [
  {
   "attachments": {},
   "cell_type": "markdown",
   "id": "80051cb8-d118-42f3-9d7a-4c7af61b434b",
   "metadata": {},
   "source": [
    "## Synopsis\n",
    "\n",
    "This code generates the SAXS 2D and 1D figure (droplet) for the manuscript"
   ]
  },
  {
   "attachments": {},
   "cell_type": "markdown",
   "id": "3cc7d7db-16b0-475c-9c29-35e026f2b6e0",
   "metadata": {},
   "source": [
    "## Initialize"
   ]
  },
  {
   "cell_type": "code",
   "execution_count": 7,
   "id": "ff622719-882e-4832-a397-bbc1102693f2",
   "metadata": {
    "tags": []
   },
   "outputs": [],
   "source": [
    "import numpy as np\n",
    "from numpy import sqrt, sin, cos, pi, exp\n",
    "\n",
    "import matplotlib as mpl\n",
    "import matplotlib.pyplot as plt\n",
    "from matplotlib.colors import LogNorm\n",
    "from mpl_toolkits.axes_grid1 import make_axes_locatable\n",
    "import h5py  \n",
    "\n",
    "from scipy.optimize import curve_fit\n",
    "import scipy.integrate as integrate\n",
    "from xpcs_viewer import XpcsFile as xf\n",
    "\n",
    "mpl.rcParams['legend.handlelength'] = 2"
   ]
  },
  {
   "attachments": {},
   "cell_type": "markdown",
   "id": "1451cdcc-40d2-4456-adf9-2bba9c258b54",
   "metadata": {},
   "source": [
    "## Load result files"
   ]
  },
  {
   "cell_type": "code",
   "execution_count": 8,
   "id": "3dbda1cd-5cee-4a84-8369-88abfd60ad13",
   "metadata": {},
   "outputs": [],
   "source": [
    "fn_path = \"../Data/\"\n",
    "noisy_droplet = \"E0098_D100_Pendant_022C_att01_Rq0_00001_0001-100000.hdf\"\n",
    "dropleta = \"AvgF084_Pendant_WithCase_Cen_att00_Lq0_Rq0_00001_0001-100000.hdf\"\n",
    "CapCellb = \"AvgD129_D100_samy3_Cell_att00_Lq0_Rq0_00001_0001-100000.hdf\"\n",
    "capillaryc = \"AvgF091_D100_Capillary_Post_att00_Lq0_Rq0_00001_0001-100000.hdf\"\n",
    "\n",
    "droplet = xf(dropleta, cwd = fn_path)\n",
    "CapCell = xf(CapCellb, cwd = fn_path)\n",
    "capillary = xf(capillaryc, cwd = fn_path)\n",
    "# The value in hdf file is wrong but the q's in Q map is right, as the detector distance was manually corrected\n",
    "det_dist = 8000   \n",
    "\n",
    "pix2q = droplet.pix_dim_x/det_dist*(2*3.1416/(12.4/droplet.X_energy))"
   ]
  },
  {
   "attachments": {},
   "cell_type": "markdown",
   "id": "ce2a4236-2cde-4834-a903-2fa7faff2f07",
   "metadata": {},
   "source": [
    "## Calculate I(Q) for hard sphere\n",
    "The fit is eyeballed since there is no explicit function form for I(Q)"
   ]
  },
  {
   "cell_type": "code",
   "execution_count": 11,
   "id": "0541ee57-e2b1-4aa4-815b-327fc0a62216",
   "metadata": {},
   "outputs": [],
   "source": [
    "I_Corr = 1.12\n",
    "\n",
    "rad_coeff=np.zeros([2])\n",
    "\n",
    "I_cal=np.zeros(len(droplet.ql_sta))\n",
    "\n",
    "R_NP = 563\n",
    "d_NP = 48\n",
    "\n",
    "for ii in np.arange(len(droplet.ql_sta)):\n",
    "    ql = droplet.ql_sta[ii]\n",
    "    I_size = lambda x: (sin(ql*x)-ql*x*cos(ql*x))**2 / (ql*x)**6*exp(-(x-R_NP)**2/(2*d_NP**2))\n",
    "\n",
    "    drop = integrate.quad(I_size, 0, 1000)\n",
    "    I_cal[ii] = drop[0]\n",
    "\n",
    "Iq_fit = I_Corr*I_cal/np.max(I_cal)      \n"
   ]
  },
  {
   "attachments": {},
   "cell_type": "markdown",
   "id": "2675c59d-e677-4de4-83a0-f88e19048c1a",
   "metadata": {},
   "source": [
    "## Plot 1D SAXS from droplet, CapCell and (NH$_4$)$_2$SO$_4$. "
   ]
  },
  {
   "cell_type": "code",
   "execution_count": 12,
   "id": "a3f6d979-31e2-4499-a712-e900d64aaf8b",
   "metadata": {},
   "outputs": [
    {
     "data": {
      "image/png": "[encoded data removed]",
      "text/plain": [
       "<Figure size 259.2x207.36 with 1 Axes>"
      ]
     },
     "metadata": {
      "needs_background": "light"
     },
     "output_type": "display_data"
    }
   ],
   "source": [
    "\n",
    "# figure parameter settings. 3.3 inch is about 85 mm\n",
    "scale = 1\n",
    "width = 3.6*scale\n",
    "font_size = 8*scale\n",
    "line_width = 0.5*scale\n",
    "marker_size = 2*scale\n",
    "tick_length_major = 4*scale\n",
    "tick_length_minor = 2*scale\n",
    "\n",
    "\n",
    "%matplotlib inline\n",
    "fig, ax = plt.subplots(1, 1, figsize=(width, 0.8*width))\n",
    "ax.plot(np.squeeze(10*capillary.ql_sta), Iq_fit, color='k', \n",
    "        linestyle=\"--\", linewidth=2*line_width, label='Hard Sphere Model')\n",
    "ax.plot(10*droplet.ql_sta, np.squeeze(droplet.saxs_1d['Iq'])/0.16, color='r', fillstyle='none', \n",
    "    marker='s', markersize=marker_size, markevery=5, markeredgewidth=line_width, \n",
    "        linestyle=\"None\", label='Pendant Drop')\n",
    "ax.plot(10*CapCell.ql_sta, np.squeeze(CapCell.saxs_1d['Iq'])/0.105, color='g', fillstyle='none', \n",
    "    marker='v', markersize=marker_size, markevery=5, markeredgewidth=line_width,\n",
    "        linestyle=\"None\", label='CapCell')\n",
    "ax.plot(10*capillary.ql_sta, np.squeeze(capillary.saxs_1d['Iq'])/0.099, color='b', fillstyle='none', \n",
    "    marker='o', markersize=marker_size, markevery=5, markeredgewidth=line_width, \n",
    "        linestyle=\"None\", label='Capillary')        \n",
    "\n",
    "### Define plot range\n",
    "ax.set_xscale('log')\n",
    "ax.set_yscale('log')\n",
    "ax.set_xlim(1.5e-2, 4e-1)\n",
    "ax.set_ylim(5e-5, 2)\n",
    "ax.set_xticks([1.5e-2, 5e-2, 1e-1, 3e-1], fontsize = font_size)\n",
    "ax.set_xticklabels([0.015, 0.05, 0.1, 0.3], fontsize = font_size)\n",
    "ax.set_yticks([1e-4, 1e-3, 1e-2, 1e-1, 1])\n",
    "plt.yticks(fontsize = font_size)\n",
    "\n",
    "\n",
    "### Define ticks, labels and strokes\n",
    "plt.rcParams[\"font.family\"] = \"Arial\"\n",
    "ax.grid(color='k', linestyle='-', linewidth=line_width, alpha=0.05, which='both')\n",
    "plt.rcParams[\"font.size\"] = font_size\n",
    "plt.xlabel('Q (nm$\\mathdefault{^{-1}}$)', fontsize=font_size, labelpad=0.05*font_size)\n",
    "plt.ylabel('I(a.u.)', fontsize=font_size, labelpad=0.05*font_size)\n",
    "\n",
    "\n",
    "plt.rcParams['axes.linewidth'] = line_width\n",
    "ax.tick_params('both', length=tick_length_major, width=line_width, which='major')\n",
    "ax.tick_params('both', length=tick_length_minor, width=0.5*line_width, which='minor')\n",
    "\n",
    "### Define legend\n",
    "ax.legend(loc='lower left', prop={'size': 8})\n",
    "\n",
    "### Save figure\n",
    "plt.savefig('../Figures/Saxs1D_paper.pdf', dpi=600, format='pdf', \n",
    "            facecolor='w', edgecolor='w', transparent=False, bbox_inches='tight')"
   ]
  }
 ],
 "metadata": {
  "interpreter": {
   "hash": "e47b1a34c05c1e3b83a62d7885c9d1b5ef8a0522d3be0182d0a008ec409b2b3d"
  },
  "kernelspec": {
   "display_name": "Python 3.9.10 ('myenv')",
   "language": "python",
   "name": "python3"
  },
  "language_info": {
   "codemirror_mode": {
    "name": "ipython",
    "version": 3
   },
   "file_extension": ".py",
   "mimetype": "text/x-python",
   "name": "python",
   "nbconvert_exporter": "python",
   "pygments_lexer": "ipython3",
   "version": "3.9.10"
  }
 },
 "nbformat": 4,
 "nbformat_minor": 5
}
