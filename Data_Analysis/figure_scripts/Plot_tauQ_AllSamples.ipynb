{
 "cells": [
  {
   "cell_type": "markdown",
   "id": "80051cb8-d118-42f3-9d7a-4c7af61b434b",
   "metadata": {},
   "source": [
    "# Synopsis\n",
    "\n",
    "This code generates the g2 (ROI2) and tau vs. Q figure (water) for the manuscript"
   ]
  },
  {
   "cell_type": "markdown",
   "id": "3cc7d7db-16b0-475c-9c29-35e026f2b6e0",
   "metadata": {},
   "source": [
    "## Initialize"
   ]
  },
  {
   "cell_type": "code",
   "execution_count": 1,
   "id": "ff622719-882e-4832-a397-bbc1102693f2",
   "metadata": {
    "tags": []
   },
   "outputs": [],
   "source": [
    "\n",
    "import numpy as np\n",
    "from numpy import sqrt, sin, cos, pi, exp\n",
    "import matplotlib as mpl\n",
    "from mpl_toolkits.axes_grid1.inset_locator import inset_axes\n",
    "from mpl_toolkits.axes_grid1 import make_axes_locatable\n",
    "from matplotlib.colors import LogNorm\n",
    "import matplotlib.pyplot as plt\n",
    "import h5py  \n",
    "from scipy.optimize import curve_fit\n",
    "import scipy.integrate as integrate\n",
    "from xpcs_viewer import XpcsFile as xf\n"
   ]
  },
  {
   "cell_type": "markdown",
   "id": "2dd9d35f-4211-4cce-bbf7-f480586355da",
   "metadata": {},
   "source": [
    "## Read data"
   ]
  },
  {
   "cell_type": "code",
   "execution_count": 2,
   "id": "162eae1b-650b-4c3d-a021-7dbc113a404b",
   "metadata": {},
   "outputs": [],
   "source": [
    "\n",
    "fn_path = '../Reduced_Data/'\n",
    "\n",
    "Water = xf('J058_Water_XPCS_Trim.hdf', cwd = fn_path)\n",
    "NaCl = xf('L067_NaCl_XPCS_Trim.hdf', cwd = fn_path)\n",
    "NH4 = xf('M071_NH4_XPCS_Trim.hdf', cwd = fn_path)\n"
   ]
  },
  {
   "cell_type": "markdown",
   "id": "cdf6a542-b0e6-4fd1-bce3-a273ab59cf4d",
   "metadata": {},
   "source": [
    "## Fit g2 for water data"
   ]
  },
  {
   "cell_type": "code",
   "execution_count": 3,
   "id": "3b6cb664-798b-4375-9dde-531d882b5f10",
   "metadata": {
    "tags": []
   },
   "outputs": [],
   "source": [
    "\n",
    "contrast = 0.14\n",
    "exp_arg = 1\n",
    "\n",
    "LB_list_g2 = [contrast, 1e-6, exp_arg, 0.95]\n",
    "UB_list_g2 = [contrast, 1, exp_arg, 1.05]\n",
    "\n",
    "tauq_power = -2\n",
    "LB_list_tauQ = [1e-12, tauq_power]\n",
    "UB_list_tauQ = [1e-3, tauq_power]\n",
    "\n",
    "_ = Water.fit_g2(q_range=[0, 0.01],t_range=[1e-8, 1e1], bounds=[LB_list_g2,UB_list_g2],\n",
    "    fit_flag=[False, True, False, True])\n",
    "_ = Water.fit_tauq(q_range=[0, 0.01], bounds=[LB_list_tauQ, UB_list_tauQ], fit_flag=[True, False])\n",
    "tauq_fit_val_Water = _[\"tauq_fit_val\"]\n",
    "tauq_fit_line_Water = _[\"tauq_fit_line\"]\n",
    "tauq_q_Water = _[\"tauq_q\"]\n",
    "tauq_tau_Water = _[\"tauq_tau\"]\n",
    "tauq_tau_err_Water = _[\"tauq_tau_err\"]\n",
    "\n",
    "_ = NaCl.fit_g2(q_range=[0, 0.01],t_range=[1e-8, 1e1], bounds=[LB_list_g2, UB_list_g2],\n",
    "    fit_flag=[False, True, False, True])\n",
    "_ = NaCl.fit_tauq(q_range=[0, 0.01], bounds=[LB_list_tauQ, UB_list_tauQ], fit_flag=[True, False])\n",
    "tauq_fit_val_NaCl = _[\"tauq_fit_val\"]\n",
    "tauq_fit_line_NaCl = _[\"tauq_fit_line\"]\n",
    "tauq_q_NaCl = _[\"tauq_q\"]\n",
    "tauq_tau_NaCl = _[\"tauq_tau\"]\n",
    "tauq_tau_err_NaCl = _[\"tauq_tau_err\"]\n",
    "\n",
    "_ = NH4.fit_g2(q_range=[0, 0.01],t_range=[1e-8, 1e1], bounds=[LB_list_g2, UB_list_g2],\n",
    "    fit_flag=[False, True, False, True])\n",
    "_ = NH4.fit_tauq(q_range=[0, 0.01], bounds=[LB_list_tauQ, UB_list_tauQ], fit_flag=[True, False])\n",
    "tauq_fit_val_NH4 = _[\"tauq_fit_val\"]\n",
    "tauq_fit_line_NH4 = _[\"tauq_fit_line\"]\n",
    "tauq_q_NH4 = _[\"tauq_q\"]\n",
    "tauq_tau_NH4 = _[\"tauq_tau\"]\n",
    "tauq_tau_err_NH4 = _[\"tauq_tau_err\"]\n"
   ]
  },
  {
   "cell_type": "markdown",
   "id": "949bc346-697a-4721-9cdb-35339fa6a64c",
   "metadata": {},
   "source": [
    "## Fit tau vs. Q for NaCl and (NH$_4$)$_2$SO$_4$"
   ]
  },
  {
   "cell_type": "code",
   "execution_count": 7,
   "id": "6d34dfbc-dd49-472d-8757-4d43d4f98b37",
   "metadata": {},
   "outputs": [
    {
     "data": {
      "image/png": "[encoded data removed]",
      "text/plain": [
       "<Figure size 252x201.6 with 1 Axes>"
      ]
     },
     "metadata": {
      "needs_background": "light"
     },
     "output_type": "display_data"
    }
   ],
   "source": [
    "\n",
    "scale = 1\n",
    "width = 3.5*scale\n",
    "font_size = 8*scale\n",
    "line_width = 0.5*scale\n",
    "marker_size = 4*scale\n",
    "tick_length_major = 4*scale\n",
    "tick_length_minor = 2*scale\n",
    "\n",
    "dim=1\n",
    "\n",
    "###### Set up canvas ######\n",
    "%matplotlib inline\n",
    "plt.rcParams[\"font.family\"] = \"Times New Roman\"\n",
    "\n",
    "###### Plot ######\n",
    "fig, ax = plt.subplots(1, 1, figsize=(width, 0.8*width))\n",
    "ax.errorbar(tauq_q_Water,tauq_tau_Water,tauq_tau_err_Water,fmt='ro', linewidth=line_width,\n",
    "            markeredgewidth=line_width, markersize=marker_size, markerfacecolor='none', label='Sample A')\n",
    "ax.errorbar(tauq_q_NaCl,tauq_tau_NaCl,tauq_tau_err_NaCl,fmt='y^', linewidth=line_width,\n",
    "            markeredgewidth=line_width, markersize=marker_size, markerfacecolor='none', label='Sample B')\n",
    "ax.errorbar(tauq_q_NH4,tauq_tau_NH4,tauq_tau_err_NH4,fmt='gs', linewidth=line_width, \n",
    "            markeredgewidth=line_width, markersize=marker_size, markerfacecolor='none', label='Sample C')\n",
    "ax.plot(tauq_fit_line_Water[\"fit_x\"],tauq_fit_line_Water[\"fit_y\"],'r--', linewidth=2*line_width)\n",
    "ax.plot(tauq_fit_line_NaCl[\"fit_x\"],tauq_fit_line_NaCl[\"fit_y\"],'y--', linewidth=2*line_width)\n",
    "ax.plot(tauq_fit_line_NH4[\"fit_x\"],tauq_fit_line_NH4[\"fit_y\"],'g--', linewidth=2*line_width)\n",
    "\n",
    "###### Set axes ######\n",
    "ax.tick_params('both', length=tick_length_major, width=line_width, which='major', labelsize=font_size)\n",
    "ax.tick_params('both', length=tick_length_minor, width=0.5*line_width, which='minor', \n",
    "               labelleft=False, labelbottom=False)\n",
    "ax.grid(color='k', linestyle=':', linewidth=line_width, alpha=0.1, which='both')\n",
    "for axis in ['top','bottom','left','right']:\n",
    "    ax.spines[axis].set_linewidth(line_width)\n",
    "\n",
    "ax.set_xscale('log')\n",
    "ax.set_xlim(2.4e-3, 1.1e-2)\n",
    "ax.set_xticks([3e-3, 5e-3, 1e-2])\n",
    "ax.set_xticklabels([0.03, 0.05, 0.1], fontsize=font_size)\n",
    "ax.set_xlabel('Q (nm$\\mathdefault{^{-1}}$)', fontsize=font_size, labelpad=0.05*font_size)\n",
    "\n",
    "ax.set_yscale('log')\n",
    "ax.set_ylim(1e-5, 5e-4)\n",
    "ax.set_yticks([1e-5, 1e-4])\n",
    "ax.set_yticklabels([10, 100], fontsize=font_size)\n",
    "ax.set_ylabel('$\\mathdefault{\\u03C4_0}$ ($\\mathdefault{\\mu}$s)', \n",
    "              fontsize=font_size, labelpad=0.05*font_size)\n",
    "\n",
    "###### Set legend ######\n",
    "legend=ax.legend(fancybox=True, fontsize=font_size, loc=3)\n",
    "legend.get_frame().set_edgecolor('k')\n",
    "legend.get_frame().set_linewidth(line_width)\n",
    "\n",
    "###### Save figure legend ######\n",
    "plt.savefig('tauQ_all_sample.pdf', format='pdf', \n",
    "            facecolor='w', edgecolor='w', transparent=False, bbox_inches='tight')\n"
   ]
  },
  {
   "cell_type": "markdown",
   "id": "48a86828-70e7-46e3-8fc3-8a8165c95f93",
   "metadata": {},
   "source": [
    "## Calculate hydrodynamic radius\n",
    "Boltzmann constant = $1.38\\times10^{-23}$ m$^2\\cdot$ kg $\\cdot$ s$^{-2}\\cdot$ K$^{-1}$   \n",
    "T = 273.15 + 6 = 279.15 K   \n",
    "$\\eta$ = 1.472 $\\times 10^{-3}$ Pa$\\cdot$s\n",
    "\n",
    "$D = kT\\ /\\ 6\\pi \\eta R$"
   ]
  },
  {
   "cell_type": "code",
   "execution_count": 8,
   "id": "8ac5b519-dcb8-4f55-9571-dcde3f564aba",
   "metadata": {
    "tags": []
   },
   "outputs": [
    {
     "name": "stdout",
     "output_type": "stream",
     "text": [
      "RH Water is 18.72 ± 0.74 nm\n",
      "RH NaCl is 23.69 ± 1.63 nm\n",
      "RH NH4 is 29.18 ± 1.49 nm\n"
     ]
    }
   ],
   "source": [
    "\n",
    "k = 1.38e-23\n",
    "T = 273.5 + 6\n",
    "eta = 1.520e-3\n",
    "\n",
    "diff_Water = 1/tauq_fit_val_Water[0,0]*1e-20\n",
    "diff_NaCl = 1/tauq_fit_val_NaCl[0,0]*1e-20\n",
    "diff_NH4 = 1/tauq_fit_val_NH4[0,0]*1e-20\n",
    "\n",
    "Rh_Water = k*T/(6*3.14159*eta*diff_Water)\n",
    "Rh_NaCl = k*T/(6*3.14159*eta*diff_NaCl)\n",
    "Rh_NH4 = k*T/(6*3.14159*eta*diff_NH4)\n",
    "\n",
    "Rh_err_ratio_Water = tauq_fit_val_Water[1,0]/tauq_fit_val_Water[0,0]\n",
    "Rh_err_ratio_NaCl = tauq_fit_val_NaCl[1,0]/tauq_fit_val_NaCl[0,0]\n",
    "Rh_err_ratio_NH4 = tauq_fit_val_NH4[1,0]/tauq_fit_val_NH4[0,0]\n",
    "\n",
    "print(f'RH Water is {Rh_Water*1e9:4.2f} \\u00B1 {Rh_Water*Rh_err_ratio_Water*1e9:4.2f} nm') \n",
    "print(f'RH NaCl is {Rh_NaCl*1e9:4.2f} \\u00B1 {Rh_NaCl*Rh_err_ratio_NaCl*1e9:4.2f} nm')\n",
    "print(f'RH NH4 is {Rh_NH4*1e9:4.2f} \\u00B1 {Rh_NH4*Rh_err_ratio_NH4*1e9:4.2f} nm')\n",
    "      "
   ]
  }
 ],
 "metadata": {
  "kernelspec": {
   "display_name": "Python 3",
   "language": "python",
   "name": "python3"
  },
  "language_info": {
   "codemirror_mode": {
    "name": "ipython",
    "version": 3
   },
   "file_extension": ".py",
   "mimetype": "text/x-python",
   "name": "python",
   "nbconvert_exporter": "python",
   "pygments_lexer": "ipython3",
   "version": "3.9.5"
  }
 },
 "nbformat": 4,
 "nbformat_minor": 5
}
