{
 "cells": [
  {
   "cell_type": "markdown",
   "id": "80051cb8-d118-42f3-9d7a-4c7af61b434b",
   "metadata": {},
   "source": [
    "# Synopsis\n",
    "\n",
    "This code generates the g2 and tau vs. Q figure (droplet) for the manuscript"
   ]
  },
  {
   "cell_type": "markdown",
   "id": "3cc7d7db-16b0-475c-9c29-35e026f2b6e0",
   "metadata": {},
   "source": [
    "## Initialize"
   ]
  },
  {
   "cell_type": "code",
   "execution_count": 1,
   "id": "ff622719-882e-4832-a397-bbc1102693f2",
   "metadata": {
    "tags": []
   },
   "outputs": [],
   "source": [
    "\n",
    "import numpy as np\n",
    "from numpy import sqrt, sin, cos, pi, exp\n",
    "import matplotlib as mpl\n",
    "from mpl_toolkits.axes_grid1.inset_locator import inset_axes\n",
    "from mpl_toolkits.axes_grid1 import make_axes_locatable\n",
    "from matplotlib.colors import LogNorm\n",
    "import matplotlib.pyplot as plt\n",
    "import h5py  \n",
    "from scipy.optimize import curve_fit\n",
    "import scipy.integrate as integrate\n",
    "from xpcs_viewer import XpcsFile as xf\n",
    "import csv"
   ]
  },
  {
   "cell_type": "markdown",
   "id": "2dd9d35f-4211-4cce-bbf7-f480586355da",
   "metadata": {},
   "source": [
    "## Read data"
   ]
  },
  {
   "cell_type": "code",
   "execution_count": 2,
   "id": "162eae1b-650b-4c3d-a021-7dbc113a404b",
   "metadata": {},
   "outputs": [],
   "source": [
    "fn_path = \"../Data/\"\n",
    "noisy_droplet = \"E0098_D100_Pendant_022C_att01_Rq0_00001_0001-100000.hdf\"\n",
    "dropleta = \"AvgF084_Pendant_WithCase_Cen_att00_Lq0_Rq0_00001_0001-100000.hdf\"\n",
    "CapCellb = \"AvgD129_D100_samy3_Cell_att00_Lq0_Rq0_00001_0001-100000.hdf\"\n",
    "capillaryc = \"AvgF091_D100_Capillary_Post_att00_Lq0_Rq0_00001_0001-100000.hdf\"\n",
    " \n",
    "droplet = xf(dropleta, cwd = fn_path)\n",
    "CapCell = xf(CapCellb, cwd = fn_path)\n",
    "capillary = xf(capillaryc, cwd = fn_path)\n",
    "\n",
    "burst_x = []\n",
    "burst_y = []\n",
    "burst_z = []\n",
    "with open(\"../Data/burst_plot_5.csv\", \"r\") as File:  \n",
    "    plots = csv.reader(File,  delimiter = ',') \n",
    "    count = 0\n",
    "    for row in plots:\n",
    "        \n",
    "        if count > 9:\n",
    "            break\n",
    "        burst_x.append(float(row[0]))\n",
    "        burst_y.append(float(row[2]))\n",
    "        burst_z.append(float(row[1]))\n",
    "        count+=1\n"
   ]
  },
  {
   "cell_type": "markdown",
   "id": "cdf6a542-b0e6-4fd1-bce3-a273ab59cf4d",
   "metadata": {},
   "source": [
    "## Fit g2 for droplet data"
   ]
  },
  {
   "cell_type": "code",
   "execution_count": 4,
   "id": "3b6cb664-798b-4375-9dde-531d882b5f10",
   "metadata": {
    "tags": []
   },
   "outputs": [
    {
     "name": "stderr",
     "output_type": "stream",
     "text": [
      "/var/folders/_f/s9dqqnv91k1gyc13pnzyggvh0000gr/T/ipykernel_13457/3132824168.py:95: UserWarning: FixedFormatter should only be used together with FixedLocator\n",
      "  ax.set_xticklabels(['10$^\\mathdefault{}$',\n"
     ]
    },
    {
     "data": {
      "image/png": "[encoded data removed]",
      "text/plain": [
       "<Figure size 259.2x207.36 with 2 Axes>"
      ]
     },
     "metadata": {
      "needs_background": "light"
     },
     "output_type": "display_data"
    }
   ],
   "source": [
    "contrast = 0.185\n",
    "contrast_droplet = 0.185\n",
    "contrast_cell = 0.17\n",
    "contrast_cap = 0.18\n",
    "contrast_noisy_drop = 0.172\n",
    "exp_arg = 1\n",
    "\n",
    "LB_list_g2 = [contrast, 1e-6, exp_arg, 0.95]\n",
    "UB_list_g2 = [contrast, 1, exp_arg, 1.05]\n",
    "\n",
    "a = droplet.fit_g2(q_range=[1, 1.75],t_range=[1e-7, 8e-2], bounds=[LB_list_g2, UB_list_g2],\n",
    "    fit_flag=[False, True, False, True])\n",
    "b = CapCell.fit_g2(q_range=[1, 1.75],t_range=[1e-7, 8e-2], bounds=[[contrast_cell, 1e-6, exp_arg, 0.95],[contrast_cell, 1, exp_arg, 1.05]],\n",
    "    fit_flag=[False, True, False, True])\n",
    "c = capillary.fit_g2(q_range=[1, 1.75],t_range=[1e-7, 8e-2], bounds=[[contrast_cap, 1e-6, exp_arg, 0.95],[contrast_cap, 1, exp_arg, 1.05]],\n",
    "    fit_flag=[False, True, False, True])    \n",
    "\n",
    "g2_fit_line_droplet = a[\"fit_line\"]\n",
    "g2_fit_line_CapCell = b[\"fit_line\"]\n",
    "g2_fit_line_capillary = c[\"fit_line\"]\n",
    "\n",
    "g2_fit_coeff_droplet = a[\"fit_val\"]\n",
    "g2_fit_coeff_CapCell = b[\"fit_val\"]\n",
    "g2_fit_coeff_capillary = c[\"fit_val\"]\n",
    "\n",
    "tauq_power = -2\n",
    "LB_list_tauQ = [1e-12, tauq_power]\n",
    "UB_list_tauQ = [1e-3, tauq_power]\n",
    "\n",
    "a= droplet.fit_tauq(q_range=[0, 0.01], bounds=[LB_list_tauQ, UB_list_tauQ], fit_flag=[True, False])\n",
    "tauq_fit_val_droplet = a[\"tauq_fit_val\"]\n",
    "tauq_fit_line_droplet = a[\"tauq_fit_line\"]\n",
    "tauq_q_droplet = a[\"tauq_q\"]\n",
    "tauq_tau_droplet = a[\"tauq_tau\"]\n",
    "tauq_tau_err_droplet = a[\"tauq_tau_err\"]\n",
    "\n",
    "b = CapCell.fit_tauq(q_range=[0, 0.01], bounds=[LB_list_tauQ, UB_list_tauQ], fit_flag=[True, False])\n",
    "tauq_fit_val_CapCell = b[\"tauq_fit_val\"]\n",
    "tauq_fit_line_CapCell = b[\"tauq_fit_line\"]\n",
    "tauq_q_CapCell = b[\"tauq_q\"]\n",
    "tauq_tau_CapCell = b[\"tauq_tau\"]\n",
    "tauq_tau_err_CapCell = b[\"tauq_tau_err\"]\n",
    "\n",
    "c = capillary.fit_tauq(q_range=[0, 0.01], bounds=[LB_list_tauQ, UB_list_tauQ], fit_flag=[True, False])\n",
    "tauq_fit_val_capillary = c[\"tauq_fit_val\"]\n",
    "tauq_fit_line_capillary = c[\"tauq_fit_line\"]\n",
    "tauq_q_capillary = c[\"tauq_q\"]\n",
    "tauq_tau_capillary = c[\"tauq_tau\"]\n",
    "tauq_tau_err_capillary = c[\"tauq_tau_err\"]\n",
    "\n",
    "scale = 1\n",
    "width = 3.6*scale\n",
    "font_size = 8*scale\n",
    "line_width = 0.5*scale\n",
    "marker_size = 4*scale\n",
    "tick_length_major = 4*scale\n",
    "tick_length_minor = 2*scale\n",
    "\n",
    "dim=1\n",
    "\n",
    "%matplotlib inline\n",
    "fig, ax = plt.subplots(1, 1, figsize=(width, 0.8*width))\n",
    "plt.rcParams[\"font.family\"] = \"Times New Roman\"\n",
    "plt.rcParams['axes.linewidth'] = line_width\n",
    " \n",
    "a1,b1,c1,d1 = float(c[\"fit_val\"][5,0,0]), float(c[\"fit_val\"][5,0,1]), float(c[\"fit_val\"][5,0,2]), float(c[\"fit_val\"][5,0,3])\n",
    "a1,b1,c1,d1 = float(c[\"fit_val\"][5,0,0]), float(c[\"fit_val\"][5,0,1]), float(c[\"fit_val\"][5,0,2]), float(c[\"fit_val\"][5,0,3])\n",
    "xl = np.logspace(-6, -2, num=50, endpoint=True, base=10.0, dtype=np.longfloat, axis=0)\n",
    "j = (xl/b1)**c1\n",
    "y1 = (a1 * exp(-2 * j)) + d1\n",
    "\n",
    "ax.errorbar(droplet.t_el[0:30], (droplet.g2[:,5][0:30]), yerr=(droplet.g2_err[:,5][0:30]), fmt='rs', label = 'Pendant Drop', markersize = marker_size, linewidth = line_width, markeredgewidth = line_width, markerfacecolor='none')\n",
    "ax.plot(xl[7:50], y1[7:50], 'k-', markersize=marker_size, linewidth = 2*line_width)\n",
    "ax.errorbar(CapCell.t_el[0:30], (CapCell.g2[:,5][0:30]), yerr=(CapCell.g2_err[:,5][0:30]), fmt='gv',label = 'CapCell', markersize = marker_size, linewidth = line_width, markeredgewidth = line_width, markerfacecolor='none')\n",
    "ax.errorbar(capillary.t_el[0:30], (capillary.g2[:,5][0:30]), yerr=(CapCell.g2_err[:,5][0:30]), fmt='bo', label = 'Capillary, Continuous', markersize = marker_size, linewidth = line_width, markeredgewidth = line_width, markerfacecolor='none')\n",
    "\n",
    "ax.errorbar(burst_x, burst_z, yerr = burst_y, color = 'b', fmt='*', label = 'Capillary, Burst', markersize = marker_size, linewidth = line_width, markeredgewidth = line_width, markerfacecolor='none')\n",
    "\n",
    "ax.legend(loc= \"lower left\", prop={'size': 8})\n",
    "\n",
    "ax.grid(color='k', linestyle=':', linewidth=line_width, alpha=0.1, which='both')\n",
    "ax.tick_params('both', length=tick_length_major, width=line_width, which='major', labelsize=font_size)\n",
    "ax.tick_params('x', length=tick_length_minor, width=0.5*line_width, which='minor',\n",
    "              labelleft=False, labelbottom=False)\n",
    "\n",
    "for axis in ['top','bottom','left','right']:\n",
    "    ax.spines[axis].set_linewidth(line_width)\n",
    "\n",
    "ax.set_ylabel('g$\\mathdefault{_2}$', \n",
    "              fontsize=font_size, labelpad=0.05*font_size)\n",
    "ax.set_xticks([1e-5,1e-2])\n",
    "ax.set_xscale('log')\n",
    "\n",
    "ax.set_xlim(2e-6,1.2e-2)\n",
    "ax.set_xticklabels(['10$^\\mathdefault{}$',\n",
    "                    '10$^\\mathdefault{1}$',\n",
    "                    '10$^\\mathdefault{2}$',\n",
    "                    '10$^\\mathdefault{3}$',\n",
    "                    '10$^\\mathdefault{4}$',\n",
    "                    '10$^\\mathdefault{5}$',\n",
    "                    '10$^\\mathdefault{6}$'],\n",
    "                    fontsize = font_size)\n",
    "ax.set_xlabel('Delay Time $\\mathdefault{\\u03C4}$ ($\\mathdefault{\\mu}$s)', \n",
    "              fontsize=font_size, labelpad=0.2*font_size)\n",
    "\n",
    "axins = inset_axes(ax, width=\"40%\", height=\"35%\", loc=1, borderpad=0.05*font_size)\n",
    "axins.errorbar(tauq_q_droplet*10,tauq_tau_droplet*1000000,tauq_tau_err_droplet,fmt='rs',markeredgewidth = line_width,\n",
    "               linewidth=line_width, markersize=marker_size,  markerfacecolor='none')\n",
    "axins.errorbar(tauq_q_CapCell*10,tauq_tau_CapCell*1000000,tauq_tau_err_CapCell,fmt='gv',markeredgewidth = line_width,\n",
    "               linewidth=line_width, markersize=marker_size,  markerfacecolor='none')\n",
    "axins.errorbar(tauq_q_capillary*10,tauq_tau_capillary*1000000,tauq_tau_err_capillary,fmt='bo',markeredgewidth = line_width,\n",
    "               linewidth=line_width, markersize=marker_size,  markerfacecolor='none')\n",
    "axins.plot(tauq_fit_line_droplet[\"fit_x\"]*10,tauq_fit_line_droplet[\"fit_y\"]*1000000,'k--',linewidth=2*line_width)\n",
    "\n",
    "for axis in ['top','bottom','left','right']:\n",
    "    axins.spines[axis].set_linewidth(line_width)\n",
    "\n",
    "axins.set_xscale('log')\n",
    "axins.set_xlim(1.8e-2, 7e-2)\n",
    "axins.set_xticks([1.5e-2, 3e-2, 6e-2])\n",
    "axins.set_xticklabels(['0.015',\n",
    "                    '0.03',\n",
    "                    '0.06'],\n",
    "                    fontsize = font_size)\n",
    "\n",
    "axins.set_xlabel('Q(nm$\\mathdefault{^{-1}}$)', fontsize=font_size, labelpad=0.05*font_size )\n",
    "\n",
    "axins.set_yscale('log')\n",
    "axins.set_yticks([100, 1000])\n",
    "\n",
    "axins.set_yticklabels(['100','1000'],fontsize = font_size)\n",
    "axins.tick_params('both', length=tick_length_major, width=line_width, which='major', labelsize=font_size)\n",
    "axins.tick_params('both', length=tick_length_minor, width=0.5*line_width, which='minor', \n",
    "               labelleft=False, labelbottom=False)\n",
    "axins.set_ylim(50, 1200)\n",
    "axins.set_ylabel('$\\mathdefault{\\u03C4_0}$(Q) ($\\mathdefault{\\mu}$s)', \n",
    "              fontsize=font_size, labelpad=0.05*font_size)\n",
    "\n",
    "\n",
    "\n",
    "axins.grid(color='k', linestyle=':', linewidth=0.5, alpha=0.1, which='both')\n",
    "\n",
    "plt.savefig('../Data/g2_tauQ.pdf', dpi=600, format='pdf', \n",
    "            facecolor='w', edgecolor='w', transparent=False, bbox_inches='tight')\n"
   ]
  }
 ],
 "metadata": {
  "interpreter": {
   "hash": "e47b1a34c05c1e3b83a62d7885c9d1b5ef8a0522d3be0182d0a008ec409b2b3d"
  },
  "kernelspec": {
   "display_name": "Python 3.9.10 ('myenv')",
   "language": "python",
   "name": "python3"
  },
  "language_info": {
   "codemirror_mode": {
    "name": "ipython",
    "version": 3
   },
   "file_extension": ".py",
   "mimetype": "text/x-python",
   "name": "python",
   "nbconvert_exporter": "python",
   "pygments_lexer": "ipython3",
   "version": "3.9.10"
  }
 },
 "nbformat": 4,
 "nbformat_minor": 5
}
