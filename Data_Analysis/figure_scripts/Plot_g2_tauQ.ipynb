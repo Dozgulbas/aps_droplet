{
 "cells": [
  {
   "cell_type": "markdown",
   "id": "80051cb8-d118-42f3-9d7a-4c7af61b434b",
   "metadata": {},
   "source": [
    "# Synopsis\n",
    "\n",
    "This code generates the g2 (ROI2) and tau vs. Q figure (water) for the manuscript"
   ]
  },
  {
   "cell_type": "markdown",
   "id": "3cc7d7db-16b0-475c-9c29-35e026f2b6e0",
   "metadata": {},
   "source": [
    "## Initialize"
   ]
  },
  {
   "cell_type": "code",
   "execution_count": 1,
   "id": "ff622719-882e-4832-a397-bbc1102693f2",
   "metadata": {
    "tags": []
   },
   "outputs": [],
   "source": [
    "\n",
    "import numpy as np\n",
    "from numpy import sqrt, sin, cos, pi, exp\n",
    "import matplotlib as mpl\n",
    "from mpl_toolkits.axes_grid1.inset_locator import inset_axes\n",
    "from mpl_toolkits.axes_grid1 import make_axes_locatable\n",
    "from matplotlib.colors import LogNorm\n",
    "import matplotlib.pyplot as plt\n",
    "import h5py  \n",
    "from scipy.optimize import curve_fit\n",
    "import scipy.integrate as integrate\n",
    "from xpcs_viewer import XpcsFile as xf\n"
   ]
  },
  {
   "cell_type": "markdown",
   "id": "2dd9d35f-4211-4cce-bbf7-f480586355da",
   "metadata": {},
   "source": [
    "## Read data"
   ]
  },
  {
   "cell_type": "code",
   "execution_count": 2,
   "id": "162eae1b-650b-4c3d-a021-7dbc113a404b",
   "metadata": {},
   "outputs": [],
   "source": [
    "\n",
    "fn_path = '../Reduced_Data/'\n",
    "Water = xf('J058_Water_XPCS_Trim.hdf', cwd = fn_path)\n"
   ]
  },
  {
   "cell_type": "markdown",
   "id": "cdf6a542-b0e6-4fd1-bce3-a273ab59cf4d",
   "metadata": {},
   "source": [
    "## Fit g2 for water data"
   ]
  },
  {
   "cell_type": "code",
   "execution_count": 12,
   "id": "3b6cb664-798b-4375-9dde-531d882b5f10",
   "metadata": {
    "tags": []
   },
   "outputs": [
    {
     "data": {
      "image/png": "[encoded data removed]",
      "text/plain": [
       "<Figure size 259.2x207.36 with 2 Axes>"
      ]
     },
     "metadata": {
      "needs_background": "light"
     },
     "output_type": "display_data"
    }
   ],
   "source": [
    "\n",
    "contrast = 0.14\n",
    "exp_arg = 1\n",
    "\n",
    "LB_list_g2 = [contrast, 1e-6, exp_arg, 0.95]\n",
    "UB_list_g2 = [contrast, 1, exp_arg, 1.05]\n",
    "\n",
    "_ = Water.fit_g2(q_range=[0, 0.01],t_range=[1e-8, 1e1], bounds=[LB_list_g2,UB_list_g2],\n",
    "    fit_flag=[False, True, False, True])\n",
    "\n",
    "g2_fit_line_Water = _[\"fit_line\"]\n",
    "# g2_fit_line stores fitted g2 at different q's into a list of dictionaries. \n",
    "# Each dictionary contains two keys, fit_x and fit_y.\n",
    "# fit_x is a 2D numpy array that corresponds to the time axis at that q;\n",
    "# fit_y is a 2D numpy array that corresponds to the fitted g2 values at that q;\n",
    "\n",
    "# g2_fit_coeff is a 3D numpy array.\n",
    "# i is the q ROI index;\n",
    "# j=0 for fit values, j=1 for errors;\n",
    "# k=0,1,2,3 to select fitting parameters\n",
    "g2_fit_coeff_Water = _[\"fit_val\"]\n",
    "\n",
    "tauq_power = -2\n",
    "LB_list_tauQ = [1e-12, tauq_power]\n",
    "UB_list_tauQ = [1e-3, tauq_power]\n",
    "\n",
    "_ = Water.fit_tauq(q_range=[0, 0.01], bounds=[LB_list_tauQ, UB_list_tauQ], fit_flag=[True, False])\n",
    "tauq_fit_val_Water = _[\"tauq_fit_val\"]\n",
    "tauq_fit_line_Water = _[\"tauq_fit_line\"]\n",
    "tauq_q_Water = _[\"tauq_q\"]\n",
    "tauq_tau_Water = _[\"tauq_tau\"]\n",
    "tauq_tau_err_Water = _[\"tauq_tau_err\"]\n",
    "\n",
    "scale = 1\n",
    "width = 3.6*scale\n",
    "font_size = 8*scale\n",
    "line_width = 0.5*scale\n",
    "marker_size = 4*scale\n",
    "tick_length_major = 4*scale\n",
    "tick_length_minor = 2*scale\n",
    "\n",
    "dim=1\n",
    "\n",
    "###### Set up canvas ######\n",
    "%matplotlib inline\n",
    "fig, ax = plt.subplots(1, 1, figsize=(width, 0.8*width))\n",
    "plt.rcParams[\"font.family\"] = \"Times New Roman\"\n",
    "plt.rcParams['axes.linewidth'] = line_width\n",
    "\n",
    "###### Plot g2 ######\n",
    "ax.errorbar(Water.t_el[:-1], Water.g2[:-1,dim]-g2_fit_coeff_Water[dim,0,3], yerr=Water.g2_err[:-1,dim], \n",
    "            fmt='ro', markersize=marker_size, linewidth=line_width, markeredgewidth=line_width,\n",
    "            markerfacecolor='none')\n",
    "ax.plot(g2_fit_line_Water[dim][\"fit_x\"][10:-10], g2_fit_line_Water[dim][\"fit_y\"][10:-10] \\\n",
    "        -g2_fit_coeff_Water[dim,0,3], 'b-', linewidth=2*line_width)\n",
    "\n",
    "###### Set up ticks, labels and strokes ######\n",
    "ax.grid(color='k', linestyle=':', linewidth=line_width, alpha=0.1, which='both')\n",
    "ax.tick_params('both', length=tick_length_major, width=line_width, which='major', labelsize=font_size)\n",
    "ax.tick_params('x', length=tick_length_minor, width=0.5*line_width, which='minor',\n",
    "              labelleft=False, labelbottom=False)\n",
    "for axis in ['top','bottom','left','right']:\n",
    "    ax.spines[axis].set_linewidth(line_width)\n",
    "\n",
    "ax.set_xscale('log')\n",
    "ax.set_xlim(1e-5, 3)\n",
    "ax.set_xticks([1e-5,1e-4,1e-3,1e-2,1e-1,1e0])\n",
    "ax.set_xticklabels(['10$^\\mathdefault{1}$',\n",
    "                    '10$^\\mathdefault{2}$',\n",
    "                    '10$^\\mathdefault{3}$',\n",
    "                    '10$^\\mathdefault{4}$',\n",
    "                    '10$^\\mathdefault{5}$',\n",
    "                    '10$^\\mathdefault{6}$'],\n",
    "                    fontsize = font_size)\n",
    "ax.set_xlabel('Delay Time $\\mathdefault{\\u03C4}$ ($\\mathdefault{\\mu}$s)', \n",
    "              fontsize=font_size, labelpad=0.2*font_size)\n",
    "\n",
    "ax.set_yticks([0,0.05,0.1,0.15])\n",
    "ax.set_ylim(-0.015, 0.15)\n",
    "ax.set_yticks([0, 0.05, 0.1, 0.15])\n",
    "ax.set_ylabel('$\\mathdefault{\\Delta}$g$\\mathdefault{_2}$', \n",
    "              fontsize=font_size, labelpad=0.05*font_size)\n",
    "\n",
    "###### Plot inset (tau vs. Q) ######\n",
    "axins = inset_axes(ax, width=\"60%\", height=\"55%\", loc=1, borderpad=0.1*font_size)\n",
    "axins.errorbar(tauq_q_Water, tauq_tau_Water, tauq_tau_err_Water, fmt='ro', markeredgewidth=line_width,\n",
    "               linewidth=line_width, markersize=marker_size, markerfacecolor='none')\n",
    "axins.plot(tauq_fit_line_Water[\"fit_x\"][10:-10], tauq_fit_line_Water[\"fit_y\"][10:-10], 'r--', \n",
    "           linewidth=2*line_width)\n",
    "for axis in ['top','bottom','left','right']:\n",
    "    axins.spines[axis].set_linewidth(line_width)\n",
    "\n",
    "###### Set up ticks, labels and strokes for the inset ######\n",
    "axins.grid(color='k', linestyle=':', linewidth=line_width, alpha=0.1, which='both')\n",
    "axins.tick_params('both', length=tick_length_major, width=line_width, which='major', labelsize=font_size)\n",
    "axins.tick_params('both', length=tick_length_minor, width=0.5*line_width, which='minor', \n",
    "               labelleft=False, labelbottom=False)\n",
    "\n",
    "axins.set_xscale('log')\n",
    "axins.set_xlim(2.4e-3, 1.1e-2)\n",
    "axins.set_xticks([3e-3, 5e-3, 1e-2])\n",
    "axins.set_xticklabels([0.03, 0.05, 0.1], fontsize=font_size)\n",
    "axins.set_xlabel('Q (nm$\\mathdefault{^{-1}}$)', fontsize=font_size, labelpad=0.05*font_size)\n",
    "\n",
    "axins.set_yscale('log')\n",
    "axins.set_ylim(1e-5, 3e-4)\n",
    "axins.set_yticks([1e-5, 1e-4])\n",
    "axins.set_yticklabels([10, 100], fontsize=font_size)\n",
    "axins.set_ylabel('$\\mathdefault{\\u03C4_0}$ ($\\mathdefault{\\mu}$s)', \n",
    "              fontsize=font_size, labelpad=0.05*font_size)\n",
    "\n",
    "# axins.set_xscale('log')\n",
    "# axins.set_xticks([3e-3, 4e-3, 5e-3])\n",
    "# axins.set_xticklabels([0.03, 0.04, 0.05], fontsize=font_size)\n",
    "# axins.set_xlabel('Q (nm$\\mathdefault{^{-1}}$)', fontsize=font_size, labelpad=0.05*font_size)\n",
    "\n",
    "# axins.set_ylim(1e-5, 2e-4)\n",
    "# axins.set_yscale('log')\n",
    "# axins.set_yticks([5e-5, 1e-4, 2e-4])\n",
    "# axins.set_yticklabels([50, 100, 200], fontsize=font_size)\n",
    "# axins.set_ylabel('$\\mathdefault{\\u03C4_0}$ ($\\mathdefault{\\mu}$s)', fontsize=font_size,\n",
    "#                 labelpad=0.05*font_size)\n",
    "\n",
    "###### Save image ######\n",
    "plt.savefig('g2_tauQ_Water.pdf', dpi=600, format='pdf', \n",
    "            facecolor='w', edgecolor='w', transparent=False, bbox_inches='tight')\n"
   ]
  },
  {
   "cell_type": "code",
   "execution_count": 14,
   "id": "fe16b828-515f-4504-8e15-464e15f0c19c",
   "metadata": {},
   "outputs": [
    {
     "name": "stdout",
     "output_type": "stream",
     "text": [
      "[0.028 0.031 0.034 0.038 0.042 0.047 0.053 0.059 0.065 0.073 0.081 0.091]\n",
      "[226.341 205.385 184.66  165.654 148.557 133.211 119.459 107.138  96.078\n",
      "  86.155  77.348  69.334]\n",
      "[0.    0.    0.    0.    0.    0.    0.    0.    0.    0.    0.    0.\n",
      " 0.    0.    0.001 0.001 0.001 0.001 0.001 0.001 0.002 0.002 0.002 0.002\n",
      " 0.003 0.004 0.004 0.005 0.006 0.007 0.009 0.01  0.012 0.015 0.017 0.019\n",
      " 0.024 0.029 0.034 0.039 0.049 0.058 0.068 0.078 0.097 0.117 0.136 0.156\n",
      " 0.195 0.233 0.272 0.311 0.389 0.467 0.545 0.623 0.778 0.934 1.09  1.245]\n"
     ]
    }
   ],
   "source": [
    "\n",
    "print((tauq_q_Water*10))\n",
    "print(2*3.14/(tauq_q_Water*10))\n",
    "print(Water.t_el[:-1])"
   ]
  },
  {
   "cell_type": "code",
   "execution_count": 15,
   "id": "36df03b4-82ed-4c55-ae9d-7f6c2906815f",
   "metadata": {},
   "outputs": [
    {
     "data": {
      "text/plain": [
       "1.9230769230769231"
      ]
     },
     "execution_count": 15,
     "metadata": {},
     "output_type": "execute_result"
    }
   ],
   "source": [
    "100000/52000.0"
   ]
  }
 ],
 "metadata": {
  "kernelspec": {
   "display_name": "Python 3",
   "language": "python",
   "name": "python3"
  },
  "language_info": {
   "codemirror_mode": {
    "name": "ipython",
    "version": 3
   },
   "file_extension": ".py",
   "mimetype": "text/x-python",
   "name": "python",
   "nbconvert_exporter": "python",
   "pygments_lexer": "ipython3",
   "version": "3.9.5"
  }
 },
 "nbformat": 4,
 "nbformat_minor": 5
}
