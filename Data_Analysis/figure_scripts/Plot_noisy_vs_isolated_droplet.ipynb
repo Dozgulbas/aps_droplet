{
 "cells": [
  {
   "cell_type": "markdown",
   "metadata": {},
   "source": [
    "## Synopsis\n",
    "\n",
    "This code generates the SAXS 2D and 1D figure (droplet) for the manuscript"
   ]
  },
  {
   "cell_type": "markdown",
   "metadata": {},
   "source": [
    "## Initialize"
   ]
  },
  {
   "cell_type": "code",
   "execution_count": 1,
   "metadata": {},
   "outputs": [],
   "source": [
    "from math import e\n",
    "from matplotlib import ticker\n",
    "import numpy as np\n",
    "from numpy import sqrt, sin, cos, pi, exp\n",
    "import matplotlib\n",
    "import matplotlib.pyplot as plt\n",
    "from matplotlib.colors import LogNorm\n",
    "import h5py  \n",
    "from scipy.optimize import curve_fit\n",
    "import scipy.integrate as integrate\n",
    "from xpcs_viewer import XpcsFile as xf\n",
    "from matplotlib.ticker import (MultipleLocator, FormatStrFormatter, AutoMinorLocator)"
   ]
  },
  {
   "cell_type": "markdown",
   "metadata": {},
   "source": []
  },
  {
   "cell_type": "code",
   "execution_count": 2,
   "metadata": {},
   "outputs": [],
   "source": [
    "fn_path = \"../Data/\"\n",
    "noisy_droplet = \"F082_Pendant_NoCase_att01_Lq0_Rq0_00001_0001-100000.hdf\"\n",
    "droplet = \"F084_Pendant_WithCase_Cen_att00_Lq0_Rq0_00001_0001-100000.hdf\"\n",
    "\n",
    "a = xf(droplet, cwd = fn_path)\n",
    "d = xf(noisy_droplet, cwd = fn_path)\n",
    "a2 = xf(\"F084_Pendant_WithCase_Cen_att00_Lq0_Rq0_00002_0001-100000.hdf\", cwd = fn_path)\n",
    "a3 = xf(\"F084_Pendant_WithCase_Cen_att00_Lq0_Rq0_00003_0001-100000.hdf\", cwd = fn_path)\n",
    "a4 = xf(\"F084_Pendant_WithCase_Cen_att00_Lq0_Rq0_00004_0001-100000.hdf\", cwd = fn_path)\n",
    "a5 = xf(\"F084_Pendant_WithCase_Cen_att00_Lq0_Rq0_00005_0001-100000.hdf\", cwd = fn_path)\n",
    "a6 = xf(\"F084_Pendant_WithCase_Cen_att00_Lq0_Rq0_00006_0001-100000.hdf\", cwd = fn_path)\n",
    "a7 = xf(\"F084_Pendant_WithCase_Cen_att00_Lq0_Rq0_00007_0001-100000.hdf\", cwd = fn_path)\n",
    "a8 = xf(\"F084_Pendant_WithCase_Cen_att00_Lq0_Rq0_00008_0001-100000.hdf\", cwd = fn_path)\n",
    "a9 = xf(\"F084_Pendant_WithCase_Cen_att00_Lq0_Rq0_00009_0001-100000.hdf\", cwd = fn_path)\n",
    "a10 = xf(\"F084_Pendant_WithCase_Cen_att00_Lq0_Rq0_00010_0001-100000.hdf\", cwd = fn_path)\n",
    "\n",
    "d2 = xf(\"F082_Pendant_NoCase_att01_Lq0_Rq0_00002_0001-100000.hdf\", cwd = fn_path)\n",
    "d3 = xf(\"F082_Pendant_NoCase_att01_Lq0_Rq0_00003_0001-100000.hdf\", cwd = fn_path)\n",
    "d4 = xf(\"F082_Pendant_NoCase_att01_Lq0_Rq0_00004_0001-100000.hdf\", cwd = fn_path)\n",
    "d5 = xf(\"F082_Pendant_NoCase_att01_Lq0_Rq0_00005_0001-100000.hdf\", cwd = fn_path)\n",
    "d6 = xf(\"F082_Pendant_NoCase_att01_Lq0_Rq0_00006_0001-100000.hdf\", cwd = fn_path)\n",
    "d7 = xf(\"F082_Pendant_NoCase_att01_Lq0_Rq0_00007_0001-100000.hdf\", cwd = fn_path)\n",
    "d8 = xf(\"F082_Pendant_NoCase_att01_Lq0_Rq0_00008_0001-100000.hdf\", cwd = fn_path)\n",
    "d9 = xf(\"F082_Pendant_NoCase_att01_Lq0_Rq0_00009_0001-100000.hdf\", cwd = fn_path)\n",
    "d10 = xf(\"F082_Pendant_NoCase_att01_Lq0_Rq0_00010_0001-100000.hdf\", cwd = fn_path)"
   ]
  },
  {
   "cell_type": "markdown",
   "metadata": {},
   "source": []
  },
  {
   "cell_type": "code",
   "execution_count": 3,
   "metadata": {},
   "outputs": [],
   "source": [
    "def set_g2_fit(a, contrast):\n",
    "    exp_arg = 1\n",
    "    LB_list = [contrast, 1e-6, exp_arg, 0.95] \n",
    "    UB_list = [contrast, 1, exp_arg, 1.05]\n",
    "    g2_fit = a.fit_g2(q_range=[0, 0.0092],t_range=[1e-8, 1e1], bounds=[LB_list,UB_list], fit_flag=[False, True, False, True])\n",
    "    g2_fit_line = g2_fit[\"fit_line\"]\n",
    "    g2_fit_coeff = g2_fit[\"fit_val\"]\n",
    "    g2_tau = g2_fit_coeff[:,0,1]\n",
    "    g2_tau_err = g2_fit_coeff[:,1,1]\n",
    "\n",
    "    return g2_fit_line, g2_fit_coeff"
   ]
  },
  {
   "cell_type": "code",
   "execution_count": null,
   "metadata": {},
   "outputs": [],
   "source": [
    "def plot_noisy_vs_normal(g2_fit_line, a,a2,a3,a4,a5,a6,a7,a8,a9,a10,d2,d3,d4,d5,d6,d7,d8,d9,d10):\n",
    "    scale = 1\n",
    "    width = 3.6*scale\n",
    "    font_size = 8*scale\n",
    "    line_width = 0.5*scale\n",
    "    marker_size = 1*scale\n",
    "    tick_length_major = 4*scale\n",
    "    tick_length_minor = 2*scale\n",
    "    dim = 1\n",
    "\n",
    "    fig, (axt,axa) = plt.subplots(1, 2, figsize=(width, 0.8*width))\n",
    "    plt.rcParams[\"font.family\"] = \"Times New Roman\"\n",
    "    plt.rcParams['axes.linewidth'] = line_width\n",
    "\n",
    "    axa.set_xscale('log')\n",
    "\n",
    "    axa.set_xlim(1.1e1 ,1e4)\n",
    "\n",
    "    axa.errorbar(a.t_el[0:30]*1000000, a.g2[:,2][0:30], yerr=a.g2_err[:,2][0:30], color = 'tab:blue' ,fmt = 's',  markersize=marker_size, linewidth=line_width, markeredgewidth=line_width, markerfacecolor='none')\n",
    "\n",
    "    axa.errorbar(a2.t_el[0:30]*1000000, a2.g2[:,2][0:30], yerr=a2.g2_err[:,2][0:30], color = 'tab:orange' ,fmt = 's', markersize=marker_size, linewidth=line_width, markeredgewidth=line_width, markerfacecolor='none')\n",
    "\n",
    "    axa.errorbar(a3.t_el[0:30]*1000000, a3.g2[:,2][0:30], yerr=a3.g2_err[:,2][0:30], color = 'tab:green' ,fmt = 's', markersize=marker_size, linewidth=line_width, markeredgewidth=line_width, markerfacecolor='none')\n",
    "\n",
    "    axa.errorbar(a4.t_el[0:30]*1000000, a4.g2[:,2][0:30], yerr=a4.g2_err[:,2][0:30], color = 'tab:red' ,fmt = 's', markersize=marker_size, linewidth=line_width, markeredgewidth=line_width, markerfacecolor='none')\n",
    "\n",
    "    axa.errorbar(a5.t_el[0:30]*1000000, a5.g2[:,2][0:30], yerr=a5.g2_err[:,2][0:30], color = 'tab:purple' ,fmt = 's', markersize=marker_size, linewidth=line_width, markeredgewidth=line_width, markerfacecolor='none')\n",
    "\n",
    "    axa.errorbar(a6.t_el[0:30]*1000000, a6.g2[:,2][0:30], yerr=a6.g2_err[:,2][0:30], color = 'tab:brown' ,fmt = 's', markersize=marker_size, linewidth=line_width, markeredgewidth=line_width, markerfacecolor='none')\n",
    "\n",
    "    axa.errorbar(a7.t_el[0:30]*1000000, a7.g2[:,2][0:30], yerr=a7.g2_err[:,2][0:30], color = 'tab:pink' ,fmt = 's', markersize=marker_size, linewidth=line_width, markeredgewidth=line_width, markerfacecolor='none')\n",
    "\n",
    "    axa.errorbar(a8.t_el[0:30]*1000000, a8.g2[:,2][0:30], yerr=a8.g2_err[:,2][0:30], color = 'tab:gray' ,fmt = 's', markersize=marker_size, linewidth=line_width, markeredgewidth=line_width, markerfacecolor='none')\n",
    "\n",
    "    axa.errorbar(a9.t_el[0:30]*1000000, a.g2[:,2][0:30], yerr=a9.g2_err[:,2][0:30], color = 'tab:olive' ,fmt = 's', markersize=marker_size, linewidth=line_width, markeredgewidth=line_width, markerfacecolor='none')\n",
    "\n",
    "    axa.errorbar(a10.t_el[0:30]*1000000, a10.g2[:,2][0:30], yerr=a10.g2_err[:,2][0:30], color = 'tab:cyan' ,fmt = 's',markersize=marker_size, linewidth=line_width, markeredgewidth=line_width, markerfacecolor='none')\n",
    "    axa.plot(g2_fit_line[2][\"fit_x\"][10:-10]*1000000,g2_fit_line[2][\"fit_y\"][10:-10], 'k-', markersize=marker_size, linewidth=2*line_width)\n",
    "\n",
    "    axa.grid( color='k', linestyle=':', linewidth=line_width, alpha=0.1, which='both')\n",
    "    axa.tick_params('both', length=tick_length_major, width=line_width, which='major', labelsize=font_size)\n",
    "    axa.tick_params('x', length=tick_length_minor, width=0.5*line_width, which='minor',\n",
    "                labelleft=False, labelbottom=False)\n",
    "    axa.tick_params(which='major' ,top=False, bottom=True, left=False, right=False,\n",
    "                    labelleft=False, labelbottom=True)\n",
    " \n",
    "    for axis in ['top','bottom','left','right']:\n",
    "        axa.spines[axis].set_linewidth(line_width)\n",
    "\n",
    "    axt.set_xscale('log')\n",
    "\n",
    "    axt.set_xlim(1.1e1 ,1e4)\n",
    "\n",
    "    axt.errorbar(d.t_el[0:30]*1000000, d.g2[:,2][0:30], yerr=d.g2_err[:,2][0:30], color = 'tab:blue' ,fmt = 'v', markersize=marker_size, linewidth=line_width, markeredgewidth=line_width, markerfacecolor='none')\n",
    "\n",
    "    axt.errorbar(d2.t_el[0:30]*1000000, d2.g2[:,2][0:30], yerr=d2.g2_err[:,2][0:30],color = 'tab:orange' ,fmt = 'v', markersize=marker_size, linewidth=line_width, markeredgewidth=line_width, markerfacecolor='none')\n",
    "\n",
    "    axt.errorbar(d3.t_el[0:30]*1000000, d3.g2[:,2][0:30], yerr=d3.g2_err[:,2][0:30], color = 'tab:green' ,fmt = 'v', markersize=marker_size, linewidth=line_width, markeredgewidth=line_width, markerfacecolor='none')\n",
    "\n",
    "    axt.errorbar(d4.t_el[0:30]*1000000, d4.g2[:,2][0:30], yerr=d4.g2_err[:,2][0:30], color = 'tab:red' ,fmt = 'v', markersize=marker_size, linewidth=line_width, markeredgewidth=line_width, markerfacecolor='none')\n",
    "\n",
    "    axt.errorbar(d5.t_el[0:30]*1000000, d5.g2[:,2][0:30], yerr=d5.g2_err[:,2][0:30], color = 'tab:purple' ,fmt = 'v', markersize=marker_size, linewidth=line_width, markeredgewidth=line_width, markerfacecolor='none')\n",
    "\n",
    "    axt.errorbar(d6.t_el[0:30]*1000000, d6.g2[:,2][0:30], yerr=d6.g2_err[:,2][0:30], color = 'tab:brown' ,fmt = 'v', markersize=marker_size, linewidth=line_width, markeredgewidth=line_width, markerfacecolor='none')\n",
    "\n",
    "    axt.errorbar(d7.t_el[0:30]*1000000, d7.g2[:,2][0:30], yerr=d7.g2_err[:,2][0:30], color = 'tab:pink' ,fmt = 'v', markersize=marker_size, linewidth=line_width, markeredgewidth=line_width, markerfacecolor='none')\n",
    "\n",
    "    axt.errorbar(d8.t_el[0:30]*1000000, d8.g2[:,2][0:30], yerr=d8.g2_err[:,2][0:30],color = 'tab:gray' ,fmt = 'v', markersize=marker_size, linewidth=line_width, markeredgewidth=line_width, markerfacecolor='none')\n",
    "\n",
    "    axt.errorbar(d9.t_el[0:30]*1000000, d9.g2[:,2][0:30], yerr=d9.g2_err[:,2][0:30],  color = 'tab:olive' ,fmt = 'v', markersize=marker_size, linewidth=line_width, markeredgewidth=line_width, markerfacecolor='none')\n",
    "\n",
    "    axt.errorbar(d10.t_el[0:30]*1000000, d10.g2[:,2][0:30], yerr=d10.g2_err[:,2][0:30], color = 'tab:cyan' ,fmt = 'v',markersize=marker_size, linewidth=line_width, markeredgewidth=line_width, markerfacecolor='none')\n",
    "    axt.plot(g2_fit_line[2][\"fit_x\"][10:-10]*1000000,g2_fit_line[2][\"fit_y\"][10:-10], 'k-', markersize=marker_size, linewidth=2*line_width)\n",
    "    \n",
    "    fig.supxlabel('Delay Time $\\mathdefault{\\u03C4}$ ($\\mathdefault{\\mu}$s)', fontsize=font_size, y = -0.01)\n",
    "    fig.supylabel('g$\\mathdefault{_2}$', fontsize=font_size, x = - 0.02)\n",
    "    \n",
    "    axt.grid(color='k', linestyle=':', linewidth=line_width, alpha=0.1, which='both')\n",
    "    axt.tick_params('both', length=tick_length_major, width=line_width, which='major', labelsize=font_size)\n",
    "    axt.tick_params('x', length=tick_length_minor, width=0.5*line_width, which='minor',\n",
    "                labelleft=False, labelbottom=False)\n",
    "\n",
    "    for axis in ['top','bottom','left','right']:\n",
    "        axt.spines[axis].set_linewidth(line_width)\n",
    "\n",
    "    plt.savefig('../Data/delta_g2_airflow_comparison.pdf', dpi=600, format='pdf', \n",
    "            facecolor='w', edgecolor='w', transparent=False, bbox_inches='tight')"
   ]
  },
  {
   "cell_type": "code",
   "execution_count": null,
   "metadata": {},
   "outputs": [],
   "source": [
    "\n",
    "contrast_drop = 0.18 \n",
    "contrast_cell = 0.121\n",
    "contrast_cap = 0.121\n",
    "contrast_noisy_drop = 0.172\n",
    "contrast_glass = 0.14\n",
    "\n",
    "num_rows = 3\n",
    "num_cols = 3\n",
    "\n",
    "cv_dim = num_rows*num_cols\n",
    "\n",
    "matplotlib.rc('font', size=20)  \n",
    "\n",
    "g2_fit_line, g2_fit_coeff = set_g2_fit(a,contrast_drop)\n",
    "g2_fit_line_b, g2_fit_coeff_b = set_g2_fit(b,contrast_cell)\n",
    "g2_fit_line_c, g2_fit_coeff_c = set_g2_fit(c,contrast_cap)\n",
    "g2_fit_line_d, g2_fit_coeff_d = set_g2_fit(d,contrast_noisy_drop)\n",
    "g2_fit_line_e,g2_fit_coeff_e = set_g2_fit(e,contrast_glass)\n",
    "\n",
    "plot_noisy_vs_normal(g2_fit_line, a,a2,a3,a4,a5,a6,a7,a8,a9,a10,d2,d3,d4,d5,d6,d7,d8,d9,d10)"
   ]
  },
  {
   "cell_type": "code",
   "execution_count": null,
   "metadata": {},
   "outputs": [],
   "source": []
  },
  {
   "cell_type": "markdown",
   "metadata": {},
   "source": []
  },
  {
   "cell_type": "code",
   "execution_count": null,
   "metadata": {},
   "outputs": [],
   "source": []
  }
 ],
 "metadata": {
  "kernelspec": {
   "display_name": "Python 3.9.10 ('myenv')",
   "language": "python",
   "name": "python3"
  },
  "language_info": {
   "codemirror_mode": {
    "name": "ipython",
    "version": 3
   },
   "file_extension": ".py",
   "mimetype": "text/x-python",
   "name": "python",
   "nbconvert_exporter": "python",
   "pygments_lexer": "ipython3",
   "version": "3.9.10"
  },
  "orig_nbformat": 4,
  "vscode": {
   "interpreter": {
    "hash": "e47b1a34c05c1e3b83a62d7885c9d1b5ef8a0522d3be0182d0a008ec409b2b3d"
   }
  }
 },
 "nbformat": 4,
 "nbformat_minor": 2
}
