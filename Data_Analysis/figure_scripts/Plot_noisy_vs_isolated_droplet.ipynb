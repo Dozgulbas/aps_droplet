{
 "cells": [
  {
   "cell_type": "markdown",
   "metadata": {},
   "source": [
    "## Synopsis\n",
    "\n",
    "This code generates the SAXS 2D and 1D figure (droplet) for the manuscript"
   ]
  },
  {
   "cell_type": "markdown",
   "metadata": {},
   "source": [
    "## Initialize"
   ]
  },
  {
   "cell_type": "code",
   "execution_count": 1,
   "metadata": {},
   "outputs": [],
   "source": [
    "from math import e\n",
    "from matplotlib import ticker\n",
    "import numpy as np\n",
    "from numpy import sqrt, sin, cos, pi, exp\n",
    "import matplotlib\n",
    "import matplotlib.pyplot as plt\n",
    "from matplotlib.colors import LogNorm\n",
    "import h5py  \n",
    "from scipy.optimize import curve_fit\n",
    "import scipy.integrate as integrate\n",
    "from xpcs_viewer import XpcsFile as xf\n",
    "from matplotlib.ticker import (MultipleLocator, FormatStrFormatter, AutoMinorLocator)"
   ]
  },
  {
   "cell_type": "markdown",
   "metadata": {},
   "source": []
  },
  {
   "cell_type": "code",
   "execution_count": null,
   "metadata": {},
   "outputs": [],
   "source": [
    "fn_path = \"../Data/\"\n",
    "noisy_droplet = \"F082_Pendant_NoCase_att01_Lq0_Rq0_00001_0001-100000.hdf\"\n",
    "droplet = \"F084_Pendant_WithCase_Cen_att00_Lq0_Rq0_00001_0001-100000.hdf\"\n",
    "\n",
    "a = xf(droplet, cwd = fn_path)\n",
    "d = xf(noisy_droplet, cwd = fn_path)\n",
    "a2 = xf(\"F084_Pendant_WithCase_Cen_att00_Lq0_Rq0_00002_0001-100000.hdf\", cwd = fn_path)\n",
    "a3 = xf(\"F084_Pendant_WithCase_Cen_att00_Lq0_Rq0_00003_0001-100000.hdf\", cwd = fn_path)\n",
    "a4 = xf(\"F084_Pendant_WithCase_Cen_att00_Lq0_Rq0_00004_0001-100000.hdf\", cwd = fn_path)\n",
    "a5 = xf(\"F084_Pendant_WithCase_Cen_att00_Lq0_Rq0_00005_0001-100000.hdf\", cwd = fn_path)\n",
    "a6 = xf(\"F084_Pendant_WithCase_Cen_att00_Lq0_Rq0_00006_0001-100000.hdf\", cwd = fn_path)\n",
    "a7 = xf(\"F084_Pendant_WithCase_Cen_att00_Lq0_Rq0_00007_0001-100000.hdf\", cwd = fn_path)\n",
    "a8 = xf(\"F084_Pendant_WithCase_Cen_att00_Lq0_Rq0_00008_0001-100000.hdf\", cwd = fn_path)\n",
    "a9 = xf(\"F084_Pendant_WithCase_Cen_att00_Lq0_Rq0_00009_0001-100000.hdf\", cwd = fn_path)\n",
    "a10 = xf(\"F084_Pendant_WithCase_Cen_att00_Lq0_Rq0_00010_0001-100000.hdf\", cwd = fn_path)\n",
    "\n",
    "d2 = xf(\"F082_Pendant_NoCase_att01_Lq0_Rq0_00002_0001-100000.hdf\", cwd = fn_path)\n",
    "d3 = xf(\"F082_Pendant_NoCase_att01_Lq0_Rq0_00003_0001-100000.hdf\", cwd = fn_path)\n",
    "d4 = xf(\"F082_Pendant_NoCase_att01_Lq0_Rq0_00004_0001-100000.hdf\", cwd = fn_path)\n",
    "d5 = xf(\"F082_Pendant_NoCase_att01_Lq0_Rq0_00005_0001-100000.hdf\", cwd = fn_path)\n",
    "d6 = xf(\"F082_Pendant_NoCase_att01_Lq0_Rq0_00006_0001-100000.hdf\", cwd = fn_path)\n",
    "d7 = xf(\"F082_Pendant_NoCase_att01_Lq0_Rq0_00007_0001-100000.hdf\", cwd = fn_path)\n",
    "d8 = xf(\"F082_Pendant_NoCase_att01_Lq0_Rq0_00008_0001-100000.hdf\", cwd = fn_path)\n",
    "d9 = xf(\"F082_Pendant_NoCase_att01_Lq0_Rq0_00009_0001-100000.hdf\", cwd = fn_path)\n",
    "d10 = xf(\"F082_Pendant_NoCase_att01_Lq0_Rq0_00010_0001-100000.hdf\", cwd = fn_path)"
   ]
  },
  {
   "cell_type": "markdown",
   "metadata": {},
   "source": []
  },
  {
   "cell_type": "code",
   "execution_count": null,
   "metadata": {},
   "outputs": [],
   "source": []
  },
  {
   "cell_type": "markdown",
   "metadata": {},
   "source": []
  },
  {
   "cell_type": "code",
   "execution_count": null,
   "metadata": {},
   "outputs": [],
   "source": []
  }
 ],
 "metadata": {
  "kernelspec": {
   "display_name": "Python 3.9.10 ('myenv')",
   "language": "python",
   "name": "python3"
  },
  "language_info": {
   "codemirror_mode": {
    "name": "ipython",
    "version": 3
   },
   "file_extension": ".py",
   "mimetype": "text/x-python",
   "name": "python",
   "nbconvert_exporter": "python",
   "pygments_lexer": "ipython3",
   "version": "3.9.10"
  },
  "orig_nbformat": 4,
  "vscode": {
   "interpreter": {
    "hash": "e47b1a34c05c1e3b83a62d7885c9d1b5ef8a0522d3be0182d0a008ec409b2b3d"
   }
  }
 },
 "nbformat": 4,
 "nbformat_minor": 2
}
